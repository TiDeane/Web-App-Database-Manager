{
 "cells": [
  {
   "cell_type": "markdown",
   "id": "19b43aee-c23f-4ef7-8547-9c309b2dbecb",
   "metadata": {},
   "source": [
    "# Projeto de Bases de Dados - Parte 3\n",
    "\n",
    "### Docente Responsável\n",
    "\n",
    "Prof. Daniel Pedro de Jesus Faria\n",
    "\n",
    "### Grupo 40\n",
    "<dl>\n",
    "    <dt>18 horas (33.3%)</dt>\n",
    "    <dd>ist1103811 Tiago Deane</dd>\n",
    "    <dt>18 horas (33.3%)</dt>\n",
    "    <dd>is1104145 Artur Krystopchuk</dd>\n",
    "    <dt>18 horas (33.3%)</dt>\n",
    "    <dd>ist193718 Guilherme Barata</dd>\n",
    "<dl>"
   ]
  },
  {
   "cell_type": "code",
   "execution_count": null,
   "id": "a6545a02-adea-4c57-b704-cfa1f6253e4b",
   "metadata": {
    "tags": []
   },
   "outputs": [],
   "source": [
    "%load_ext sql\n",
    "%sql postgresql://db:db@postgres/db"
   ]
  },
  {
   "cell_type": "markdown",
   "id": "1c5deb6e-396e-401f-9b09-af4cd09491a9",
   "metadata": {
    "tags": []
   },
   "source": [
    "# Empresa de comércio online"
   ]
  },
  {
   "cell_type": "markdown",
   "id": "76eab1e8-8d6a-41e3-b242-553a7f14ba84",
   "metadata": {
    "tags": []
   },
   "source": [
    "## 0. Carregamento da Base de Dados"
   ]
  },
  {
   "cell_type": "markdown",
   "id": "e047df4e-b18b-4c70-8f7b-378b4201ee01",
   "metadata": {},
   "source": [
    "Carregue o esquema de Base de Dados apresentado no Anexo A."
   ]
  },
  {
   "cell_type": "code",
   "execution_count": null,
   "id": "c718077c-5193-47a0-bb76-8f1f43a713be",
   "metadata": {
    "tags": []
   },
   "outputs": [],
   "source": [
    "%%sql\n",
    "\n",
    "DROP TABLE IF EXISTS customer CASCADE;\n",
    "DROP TABLE IF EXISTS orders CASCADE;\n",
    "DROP TABLE IF EXISTS pay CASCADE;\n",
    "DROP TABLE IF EXISTS employee CASCADE;\n",
    "DROP TABLE IF EXISTS process CASCADE;\n",
    "DROP TABLE IF EXISTS department CASCADE;\n",
    "DROP TABLE IF EXISTS workplace CASCADE;\n",
    "DROP TABLE IF EXISTS works CASCADE;\n",
    "DROP TABLE IF EXISTS office CASCADE;\n",
    "DROP TABLE IF EXISTS warehouse CASCADE;\n",
    "DROP TABLE IF EXISTS product CASCADE;\n",
    "DROP TABLE IF EXISTS contains CASCADE;\n",
    "DROP TABLE IF EXISTS supplier CASCADE;\n",
    "DROP TABLE IF EXISTS delivery CASCADE;\n",
    "\n",
    "CREATE TABLE customer(\n",
    "cust_no INTEGER PRIMARY KEY,\n",
    "name VARCHAR(80) NOT NULL,\n",
    "email VARCHAR(254) UNIQUE NOT NULL,\n",
    "phone VARCHAR(15),\n",
    "address VARCHAR(255)\n",
    ");\n",
    "\n",
    "CREATE TABLE orders(\n",
    "order_no INTEGER PRIMARY KEY,\n",
    "cust_no INTEGER NOT NULL REFERENCES customer,\n",
    "date DATE NOT NULL\n",
    "--order_no must exist in contains\n",
    ");\n",
    "\n",
    "CREATE TABLE pay(\n",
    "order_no INTEGER PRIMARY KEY REFERENCES orders,\n",
    "cust_no INTEGER NOT NULL REFERENCES customer\n",
    ");\n",
    "\n",
    "CREATE TABLE employee(\n",
    "ssn VARCHAR(20) PRIMARY KEY,\n",
    "TIN VARCHAR(20) UNIQUE NOT NULL,\n",
    "bdate DATE,\n",
    "name VARCHAR NOT NULL\n",
    "--age must be >=18\n",
    ");\n",
    "\n",
    "CREATE TABLE process(\n",
    "ssn VARCHAR(20) REFERENCES employee,\n",
    "order_no INTEGER REFERENCES orders,\n",
    "PRIMARY KEY (ssn, order_no)\n",
    ");\n",
    "\n",
    "CREATE TABLE department(\n",
    "name VARCHAR PRIMARY KEY\n",
    ");\n",
    "\n",
    "CREATE TABLE workplace(\n",
    "address VARCHAR PRIMARY KEY,\n",
    "lat NUMERIC(8, 6) NOT NULL,\n",
    "long NUMERIC(9, 6) NOT NULL,\n",
    "UNIQUE(lat, long)\n",
    "--address must be in warehouse or office but not both\n",
    ");\n",
    "\n",
    "CREATE TABLE office(\n",
    "address VARCHAR(255) PRIMARY KEY REFERENCES workplace\n",
    ");\n",
    "\n",
    "CREATE TABLE warehouse(\n",
    "address VARCHAR(255) PRIMARY KEY REFERENCES workplace\n",
    ");\n",
    "\n",
    "CREATE TABLE works(\n",
    "ssn VARCHAR(20) REFERENCES employee,\n",
    "name VARCHAR(200) REFERENCES department,\n",
    "address VARCHAR(255) REFERENCES workplace,\n",
    "PRIMARY KEY (ssn, name, address)\n",
    ");\n",
    "\n",
    "CREATE TABLE product(\n",
    "SKU VARCHAR(25) PRIMARY KEY,\n",
    "name VARCHAR(200) NOT NULL,\n",
    "description VARCHAR,\n",
    "price NUMERIC(10, 2) NOT NULL,\n",
    "ean NUMERIC(13) UNIQUE\n",
    ");\n",
    "\n",
    "CREATE TABLE contains(\n",
    "order_no INTEGER REFERENCES orders,\n",
    "SKU VARCHAR(25) REFERENCES product,\n",
    "qty INTEGER,\n",
    "PRIMARY KEY (order_no, SKU)\n",
    ");\n",
    "\n",
    "CREATE TABLE supplier(\n",
    "TIN VARCHAR(20) PRIMARY KEY,\n",
    "name VARCHAR(200),\n",
    "address VARCHAR(255),\n",
    "SKU VARCHAR(25) REFERENCES product,\n",
    "date DATE\n",
    ");\n",
    "\n",
    "CREATE TABLE delivery(\n",
    "address VARCHAR(255) REFERENCES warehouse,\n",
    "TIN VARCHAR(20) REFERENCES supplier,\n",
    "PRIMARY KEY (address, TIN)\n",
    ");"
   ]
  },
  {
   "cell_type": "markdown",
   "id": "25fcb3f3-2ec6-4264-bd74-d07bfd56fa76",
   "metadata": {},
   "source": [
    "Crie as instruções para o seu preenchimento de forma consistente, garantindo que todas as consultas SQL e OLAP, apresentadas mais adiante, produzam um resultado não vazio. "
   ]
  },
  {
   "cell_type": "code",
   "execution_count": null,
   "id": "e33d841c-c21e-4a9a-88b4-00b45b039261",
   "metadata": {
    "tags": []
   },
   "outputs": [],
   "source": [
    "%%sql\n",
    "\n",
    "BEGIN;\n",
    "\n",
    "INSERT INTO Employee (ssn, TIN, bdate, name) VALUES (123456789012, 987654321, '1990-01-01', 'Adams Brown');\n",
    "INSERT INTO Employee (ssn, TIN, bdate, name) VALUES (987654321012, 123456789, '1995-05-10', 'Cook Davis');\n",
    "INSERT INTO Employee (ssn, TIN, bdate, name) VALUES (987456321012, 892752342, '2003-06-14', 'Elvis Franklin');\n",
    "INSERT INTO Employee (ssn, TIN, bdate, name) VALUES (123789456012, 321456798, '2000-04-20', 'Grant Hillary');\n",
    "INSERT INTO Employee (ssn, TIN, bdate, name) VALUES (764589732694, 793425984, '2000-06-21', 'John Smith');\n",
    "INSERT INTO Employee (ssn, TIN, bdate, name) VALUES (983979423983, 123141233, '2003-12-25', 'Gran Torino');\n",
    "\n",
    "INSERT INTO Department (name) VALUES ('Computing');\n",
    "INSERT INTO Department (name) VALUES ('Marketing');\n",
    "INSERT INTO Department (name) VALUES ('Sales');\n",
    "INSERT INTO Department (name) VALUES ('Design');\n",
    "INSERT INTO Department (name) VALUES ('Shipping');\n",
    "\n",
    "INSERT INTO Workplace (address, lat, long) VALUES ('1234-567 Main City', 10.1234, -34.5678);\n",
    "INSERT INTO Workplace (address, lat, long) VALUES ('2345-678 Church City', 23.5678, -1.1234);\n",
    "INSERT INTO Workplace (address, lat, long) VALUES ('3456-789 Deez City', 10.1234, -33.5678);\n",
    "INSERT INTO Workplace (address, lat, long) VALUES ('4567-890 Nuzt City', 98.7654, -71.1234);\n",
    "\n",
    "INSERT INTO Office (address) VALUES ('1234-567 Main City');\n",
    "INSERT INTO Office (address) VALUES ('2345-678 Church City');\n",
    "\n",
    "INSERT INTO Warehouse (address) VALUES ('3456-789 Deez City');\n",
    "INSERT INTO Warehouse (address) VALUES ('4567-890 Nuzt City');\n",
    "\n",
    "INSERT INTO works (ssn, name, address) VALUES (123456789012, 'Computing', '1234-567 Main City');\n",
    "INSERT INTO works (ssn, name, address) VALUES (987654321012, 'Marketing', '2345-678 Church City');\n",
    "INSERT INTO works (ssn, name, address) VALUES (987456321012, 'Sales', '2345-678 Church City');\n",
    "INSERT INTO works (ssn, name, address) VALUES (123789456012, 'Design', '3456-789 Deez City');\n",
    "INSERT INTO works (ssn, name, address) VALUES (123789456012, 'Shipping', '4567-890 Nuzt City');\n",
    "\n",
    "INSERT INTO Customer (cust_no, name, email, phone, address) VALUES (1, 'Adams Brown', 'adams@gmail.com', '123-456-7890', '5678-901 Dragin City');\n",
    "INSERT INTO Customer (cust_no, name, email, phone, address) VALUES (2, 'Cook Davis', 'cook@food.com', '987-654-3210', '1234-567 Main City');\n",
    "INSERT INTO Customer (cust_no, name, email, phone, address) VALUES (3, 'John Smith', 'john@smith.com', '123-654-3210', '1234-567 Main City');\n",
    "INSERT INTO Customer (cust_no, name, email, phone, address) VALUES (4, 'Gran Torino', 'gran@mha.com', '987-123-3210', '3456-789 Deez City');\n",
    "INSERT INTO Customer (cust_no, name, email, phone, address) VALUES (5, 'Violet Evergardem', 've@gmail.com', '988-123-3210', '6543-789 Lookout Landing');\n",
    "\n",
    "INSERT INTO orders (order_no, date, cust_no) VALUES (1, '2022-01-15', 1);\n",
    "INSERT INTO orders (order_no, date, cust_no) VALUES (2, '2022-05-23', 2);\n",
    "INSERT INTO orders (order_no, date, cust_no) VALUES (3, '2022-05-24', 3);\n",
    "INSERT INTO orders (order_no, date, cust_no) VALUES (4, '2022-05-25', 4);\n",
    "INSERT INTO orders (order_no, date, cust_no) VALUES (5, '2023-05-26', 1);\n",
    "INSERT INTO orders (order_no, date, cust_no) VALUES (6, '2023-05-27', 2);\n",
    "INSERT INTO orders (order_no, date, cust_no) VALUES (7, '2023-05-28', 3);\n",
    "INSERT INTO orders (order_no, date, cust_no) VALUES (8, '2023-05-29', 4);\n",
    "\n",
    "INSERT INTO process (ssn, order_no) VALUES (123789456012, 1);\n",
    "INSERT INTO process (ssn, order_no) VALUES (123789456012, 2);\n",
    "INSERT INTO process (ssn, order_no) VALUES (123789456012, 3);\n",
    "INSERT INTO process (ssn, order_no) VALUES (123789456012, 4);\n",
    "INSERT INTO process (ssn, order_no) VALUES (987654321012, 5);\n",
    "INSERT INTO process (ssn, order_no) VALUES (987456321012, 6);\n",
    "INSERT INTO process (ssn, order_no) VALUES (123456789012, 7);\n",
    "\n",
    "INSERT INTO pay (order_no, cust_no) VALUES (1, 1);\n",
    "INSERT INTO pay (order_no, cust_no) VALUES (2, 2);\n",
    "INSERT INTO pay (order_no, cust_no) VALUES (3, 3);\n",
    "INSERT INTO pay (order_no, cust_no) VALUES (7, 3);\n",
    "\n",
    "INSERT INTO Product (sku, name, description, price) VALUES ('SKU001', 'The Dragon Slayer', 'A dragon slaying toy sword for your kids!', 80.00);\n",
    "INSERT INTO Product (sku, name, description, price) VALUES ('SKU002', 'Hylian Shield', 'A replica of the shield from Legend of Zellda', 15.00);\n",
    "INSERT INTO Product (sku, name, description, price) VALUES ('SKU003', 'Pure Nail', 'The newest nail clipper from NailClippersEnterprise', 3.50);\n",
    "INSERT INTO Product (sku, name, description, price) VALUES ('SKU004', 'LEGU Millenium Falcon', 'The latest edition of LEGU Millenium Falcon from Star Wars', 500.00);\n",
    "INSERT INTO Product (sku, name, description, price) VALUES ('SKU005', 'Philosophers Stone', 'The ideal item for alchemy!', 55.00);\n",
    "\n",
    "INSERT INTO Supplier (TIN, name, address, sku, date) VALUES (123456789, 'NotBerserk', '6789-012 Slim City', 'SKU001', '2022-01-01');\n",
    "INSERT INTO Supplier (TIN, name, address, sku, date) VALUES (123654789, 'Notindendo', '3456-789 Deez City', 'SKU002', '2022-02-01');\n",
    "INSERT INTO Supplier (TIN, name, address, sku, date) VALUES (789235345, 'CherryTeam', '3456-789 Deez City', 'SKU003', '2022-03-01');\n",
    "INSERT INTO Supplier (TIN, name, address, sku, date) VALUES (987654321, 'LEGU', '7890-123 Lego City', 'SKU004', '2022-04-01');\n",
    "INSERT INTO Supplier (TIN, name, address, sku, date) VALUES (987654123, 'Alchemistz', '8901-234 FMA-HP City', 'SKU005', '2022-05-01');\n",
    "\n",
    "INSERT INTO contains (order_no, sku, qty) VALUES (1, 'SKU001', 3);\n",
    "INSERT INTO contains (order_no, sku, qty) VALUES (2, 'SKU002', 3);\n",
    "INSERT INTO contains (order_no, sku, qty) VALUES (3, 'SKU003', 5);\n",
    "INSERT INTO contains (order_no, sku, qty) VALUES (4, 'SKU004', 1);\n",
    "INSERT INTO contains (order_no, sku, qty) VALUES (5, 'SKU005', 2);\n",
    "INSERT INTO contains (order_no, sku, qty) VALUES (6, 'SKU001', 3);\n",
    "INSERT INTO contains (order_no, sku, qty) VALUES (7, 'SKU002', 1);\n",
    "INSERT INTO contains (order_no, sku, qty) VALUES (8, 'SKU003', 1);\n",
    "\n",
    "INSERT INTO delivery (address, TIN) VALUES ('3456-789 Deez City', 123456789);\n",
    "INSERT INTO delivery (address, TIN) VALUES ('4567-890 Nuzt City', 123654789);\n",
    "\n",
    "COMMIT;\n"
   ]
  },
  {
   "cell_type": "markdown",
   "id": "9772880f-58f0-46c8-9670-737390210bb4",
   "metadata": {
    "tags": []
   },
   "source": [
    "## 1. Restrições de Integridade\n",
    "\n",
    "Apresente o código para implementar as seguintes restrições de integridade, se necessário, com recurso a extensões procedimentais SQL (Stored Procedures e Triggers):"
   ]
  },
  {
   "cell_type": "markdown",
   "id": "a0a92dd6-9093-4f4e-addf-591d83c466b3",
   "metadata": {},
   "source": [
    "(RI-1) Nenhum empregado pode ter menos de 18 anos de idade"
   ]
  },
  {
   "cell_type": "code",
   "execution_count": null,
   "id": "c422052c-0463-46ae-9be1-b6f6ed19d2b9",
   "metadata": {
    "tags": []
   },
   "outputs": [],
   "source": [
    "%%sql\n",
    "\n",
    "ALTER TABLE employee\n",
    "ADD CHECK (bdate + INTERVAL '18 years' <= CURRENT_DATE);"
   ]
  },
  {
   "cell_type": "markdown",
   "id": "e99193b5-fd48-4601-a226-34432074af53",
   "metadata": {},
   "source": [
    "(RI-2) Um 'Workplace' é obrigatoriamente um 'Office' ou 'Warehouse' mas não pode ser ambos"
   ]
  },
  {
   "cell_type": "code",
   "execution_count": null,
   "id": "188ec396-6e55-4fd3-b436-dcafe454f677",
   "metadata": {
    "tags": []
   },
   "outputs": [],
   "source": [
    "%%sql\n",
    "\n",
    "-- Guarantees a workplace is either an Office or a Warehouse but never both\n",
    "CREATE OR REPLACE FUNCTION valid_workplace() RETURNS TRIGGER AS $$\n",
    "    BEGIN\n",
    "        IF NEW.address IN (SELECT address FROM office) AND NEW.address IN (SELECT address FROM warehouse) THEN\n",
    "            RAISE EXCEPTION 'Workplace cannot be Office and Warehouse';\n",
    "        END IF;\n",
    "        \n",
    "        IF NEW.address NOT IN (SELECT address FROM office) AND NEW.address NOT IN (SELECT address FROM warehouse) THEN\n",
    "            RAISE EXCEPTION 'Workplace needs to be Office or Warehouse';\n",
    "        END IF;\n",
    "        \n",
    "        RETURN NEW;\n",
    "    END;\n",
    "$$ LANGUAGE plpgsql;\n",
    "\n",
    "DROP TRIGGER IF EXISTS valid_workplace_trigger ON workplace;\n",
    "CREATE CONSTRAINT TRIGGER valid_workplace_trigger AFTER INSERT OR UPDATE ON workplace DEFERRABLE INITIALLY DEFERRED\n",
    "    FOR EACH ROW EXECUTE FUNCTION valid_workplace();\n",
    "\n",
    "-- Guarantees an Office isn't a Warehouse\n",
    "CREATE OR REPLACE FUNCTION valid_office() RETURNS TRIGGER AS $$\n",
    "    BEGIN\n",
    "        IF NEW.address IN (SELECT address FROM warehouse) THEN\n",
    "            RAISE EXCEPTION 'Address already belongs to a warehouse';\n",
    "        END IF;\n",
    "        \n",
    "        RETURN NEW;\n",
    "    END;\n",
    "$$ LANGUAGE plpgsql;\n",
    "\n",
    "DROP TRIGGER IF EXISTS valid_office_trigger ON office;\n",
    "CREATE CONSTRAINT TRIGGER valid_office_trigger AFTER INSERT OR UPDATE ON office DEFERRABLE INITIALLY DEFERRED\n",
    "    FOR EACH ROW EXECUTE FUNCTION valid_office();\n",
    "\n",
    "-- Guarantees a Warehouse isn't an Office\n",
    "CREATE OR REPLACE FUNCTION valid_warehouse() RETURNS TRIGGER AS $$\n",
    "    BEGIN\n",
    "        IF NEW.address IN (SELECT address FROM office) THEN\n",
    "            RAISE EXCEPTION 'Address already belongs to an office';\n",
    "        END IF;\n",
    "        \n",
    "        RETURN NEW;\n",
    "    END;\n",
    "$$ LANGUAGE plpgsql;\n",
    "\n",
    "DROP TRIGGER IF EXISTS valid_warehouse_trigger ON warehouse;\n",
    "CREATE CONSTRAINT TRIGGER valid_warehouse_trigger AFTER INSERT OR UPDATE ON warehouse DEFERRABLE INITIALLY DEFERRED\n",
    "    FOR EACH ROW EXECUTE FUNCTION valid_warehouse();\n",
    "\n",
    "-- Guarantees that if an Office or Warehouse is deleted, the corresponding Workplace is deleted aswell\n",
    "CREATE OR REPLACE FUNCTION delete_workplace() RETURNS TRIGGER AS $$\n",
    "    BEGIN\n",
    "        DELETE FROM Workplace w WHERE w.address = OLD.address;\n",
    "        \n",
    "        RETURN OLD;\n",
    "    END;\n",
    "$$ LANGUAGE plpgsql;\n",
    "\n",
    "CREATE OR REPLACE TRIGGER warehouse_delete_workplace_trigger AFTER DELETE ON warehouse\n",
    "    FOR EACH ROW EXECUTE FUNCTION delete_workplace();\n",
    "\n",
    "CREATE OR REPLACE TRIGGER office_delete_workplace_trigger AFTER DELETE ON office\n",
    "    FOR EACH ROW EXECUTE FUNCTION delete_workplace();"
   ]
  },
  {
   "cell_type": "markdown",
   "id": "7e659751-bbd0-475a-b36e-8d40d7d58a54",
   "metadata": {},
   "source": [
    "(RI-3) Uma 'Order' tem de figurar obrigatoriamente em 'Contains'."
   ]
  },
  {
   "cell_type": "code",
   "execution_count": null,
   "id": "f2993b94-77a8-4b09-b522-f39021c55131",
   "metadata": {
    "tags": []
   },
   "outputs": [],
   "source": [
    "%%sql\n",
    "\n",
    "-- Guarantees that an Order appears in Contains\n",
    "CREATE OR REPLACE FUNCTION order_in_contains() RETURNS TRIGGER AS $$\n",
    "    BEGIN\n",
    "        IF NEW.order_no NOT IN (SELECT order_no FROM contains) THEN\n",
    "            RAISE EXCEPTION 'Order % is not in contains', NEW.order_no;\n",
    "        END IF;\n",
    "        RETURN NEW;\n",
    "    END;\n",
    "$$ LANGUAGE plpgsql;\n",
    "\n",
    "DROP TRIGGER IF EXISTS order_in_contains_trigger ON orders;\n",
    "CREATE CONSTRAINT TRIGGER order_in_contains_trigger AFTER INSERT OR UPDATE ON orders DEFERRABLE INITIALLY DEFERRED\n",
    "    FOR EACH ROW EXECUTE FUNCTION order_in_contains();"
   ]
  },
  {
   "cell_type": "markdown",
   "id": "37637f46-470f-431a-9833-4d8665176450",
   "metadata": {
    "tags": []
   },
   "source": [
    "## 2. Consultas SQL"
   ]
  },
  {
   "cell_type": "markdown",
   "id": "f861ee47-e72b-4633-8dac-b4728ed852b9",
   "metadata": {},
   "source": [
    "Apresente a consulta SQL mais sucinta para cada uma das seguintes questões"
   ]
  },
  {
   "cell_type": "markdown",
   "id": "fd2e1654-059e-4ef5-a63d-5e81280baab0",
   "metadata": {},
   "source": [
    "1) Qual o número e nome do(s) cliente(s) com maior valor total de encomendas pagas?  "
   ]
  },
  {
   "cell_type": "code",
   "execution_count": null,
   "id": "5b79ced0-279d-4e04-921e-0c831d7a79f2",
   "metadata": {
    "tags": []
   },
   "outputs": [],
   "source": [
    "%%sql\n",
    "\n",
    "SELECT cust_no, name\n",
    "FROM customer JOIN pay USING (cust_no)\n",
    "GROUP BY cust_no, name HAVING COUNT(*) >= ALL(\n",
    "    SELECT COUNT(*)\n",
    "    FROM customer JOIN pay USING (cust_no)\n",
    "    GROUP BY cust_no\n",
    ");"
   ]
  },
  {
   "cell_type": "markdown",
   "id": "4f863499-c40e-428c-85e8-d2741362906d",
   "metadata": {},
   "source": [
    "2. Qual o nome dos empregados que processaram encomendas em todos os dias de 2022 em que houve encomendas?"
   ]
  },
  {
   "cell_type": "code",
   "execution_count": null,
   "id": "aadac5e9-d0e4-46e0-bab5-33d00b863884",
   "metadata": {
    "tags": []
   },
   "outputs": [],
   "source": [
    "%%sql\n",
    "\n",
    "SELECT e.name\n",
    "FROM employee e\n",
    "WHERE e.ssn in (\n",
    "    SELECT p.ssn\n",
    "    FROM process p\n",
    "    JOIN orders o ON p.order_no = o.order_no\n",
    "    WHERE o.date >= '2022-01-01' AND o.date <= '2022-12-31'\n",
    "    GROUP BY p.ssn\n",
    "    HAVING COUNT(DISTINCT o.date) = (\n",
    "    -- total de dias em 2022 que houve encomenedas\n",
    "        SELECT COUNT(DISTINCT o.date)\n",
    "        FROM orders o\n",
    "        WHERE o.date >= '2022-01-01' AND o.date <= '2022-12-31'\n",
    "    )\n",
    ");"
   ]
  },
  {
   "cell_type": "markdown",
   "id": "e871bc9e-60c4-465b-a727-9ff2d2115d0b",
   "metadata": {},
   "source": [
    "3. Quantas encomendas foram realizadas mas não pagas em cada mês de 2022?"
   ]
  },
  {
   "cell_type": "code",
   "execution_count": null,
   "id": "3e3e702e-1acb-4004-aa9e-31e4d5916669",
   "metadata": {
    "tags": []
   },
   "outputs": [],
   "source": [
    "%%sql\n",
    "\n",
    "SELECT EXTRACT(MONTH FROM dates.series) AS month, COALESCE(unpaid_orders, 0) AS unpaid_orders\n",
    "FROM (\n",
    "  SELECT generate_series('2022-01-01'::date, '2022-12-31'::date, '1 month') AS series\n",
    ") AS dates\n",
    "LEFT JOIN (\n",
    "  SELECT EXTRACT(YEAR FROM o.date) AS year, EXTRACT(MONTH FROM o.date) AS month, COUNT(o.order_no) AS unpaid_orders\n",
    "  FROM orders o\n",
    "  LEFT JOIN pay p ON o.order_no = p.order_no\n",
    "  WHERE p.order_no IS NULL\n",
    "  GROUP BY year, month\n",
    ") AS unpaid ON EXTRACT(YEAR FROM dates.series) = unpaid.year AND EXTRACT(MONTH FROM dates.series) = unpaid.month\n",
    "ORDER BY dates.series;"
   ]
  },
  {
   "cell_type": "markdown",
   "id": "97f45cec-fe42-418a-b85d-c9e51807a42c",
   "metadata": {},
   "source": [
    "## 3. Vistas"
   ]
  },
  {
   "cell_type": "markdown",
   "id": "03062b56-40fa-41c0-aac9-3e77b9049c27",
   "metadata": {},
   "source": [
    "Crie uma vista que resuma as informações mais importantes sobre as vendas de produtos, combinando informações de diferentes tabelas do esquema de base de dados. A vista deve ter o seguinte esquema:\n",
    "\n",
    "product_sales(sku, order_no, qty, total_price, year, month, day_of_month, day_of_week, city)"
   ]
  },
  {
   "cell_type": "code",
   "execution_count": null,
   "id": "0bbb2226-5de4-4051-b4c0-9130bd4904f5",
   "metadata": {
    "tags": []
   },
   "outputs": [],
   "source": [
    "%%sql\n",
    "\n",
    "CREATE OR REPLACE VIEW product_sales AS\n",
    "SELECT c.sku, c.order_no, c.qty, c.qty * p.price AS total_price,\n",
    "       EXTRACT(YEAR FROM o.date) AS year,\n",
    "       EXTRACT(MONTH FROM o.date) AS month,\n",
    "       EXTRACT(DAY FROM o.date) AS day_of_month,\n",
    "       EXTRACT(DOW FROM o.date) AS day_of_week,\n",
    "       SUBSTRING(cm.address FROM '[0-9]{4}-[0-9]{3} (.+)$') AS city\n",
    "FROM contains c\n",
    "JOIN orders o ON c.order_no = o.order_no\n",
    "JOIN customer cm ON o.cust_no = cm.cust_no\n",
    "JOIN product p ON c.sku = p.sku\n",
    "JOIN pay pa ON pa.order_no = o.order_no;"
   ]
  },
  {
   "cell_type": "markdown",
   "id": "6b615865-602f-4974-9de1-27d0060362ef",
   "metadata": {
    "tags": []
   },
   "source": [
    "## 4. Desenvolvimento de Aplicação"
   ]
  },
  {
   "cell_type": "markdown",
   "id": "0bad635d-f5c2-449f-97b0-90d10a4d482b",
   "metadata": {},
   "source": [
    "### Explicação da arquitetura da aplicação web, incluindo um link para uma versão de trabalho e as relações entre os vários ficheiros na pasta web/arquivos\n",
    "\n",
    "A aplicação web que desenvolvemos tem um índice principal (index.html) com 3 divisões: uma para produtos (Manage products), com as opções \"Register product\" e \"List products\", uma para fornecedores (Manage suppliers), com as opções \"Register supplier\" e \"List suppliers\" e uma para clientes (Manage customers), com as opções \"Register customer\" e \"List customers\".\n",
    "\n",
    "Começando pela \"Manage products\", a opção \"Register product\" abre uma página (register_prod.html) com um formulário para preencher, pedindo o SKU, nome, descrição, preço e código EAN do novo produto, com um botão \"save\" para confirmar a criação do produto. A opção \"List products\" abre uma página  (list_products.html) que lista de todos os produtos, mostrando seu SKU, nome, preço e duas opções: \"Edit\" e \"Order\". A opção \"Edit\" abre uma página (update.html) que permite alterar a descrição e preço do produto e também apagar ele (todas as entradas em outras tabelas que dependem deste produto também são apagadas), enquanto a opção Order abre uma página (order_make.html) que pede o SKU, customer number, data e quantidade e cria a encomenda com estas informações (o seu order number será o maior order number mais um). A tabela \"contains\" também é atualizada de acordo com a nova encomenda criada.\n",
    "\n",
    "Na divisão \"Manage suppliers\", a opção \"Register supplier\" abre uma página (register_sup.html) com um formulário que pede o TIN, endereço, nome, SKU e data e cria um novo fornecedor com essas informações. A opção \"List suppliers\" abre uma página (list_suppliers.html) que lista todos os fornecedores, mostrando todas as suas informações e ainda um botão \"Delete\", que permite remover aquele fornecedor (todas as entradas em outras tabelas dependentes daquele fornecedores também são apagadas).\n",
    "\n",
    "Por fim, na divisão \"Manage customers\", a opção \"Register customer\" (register_cus.html) pede o nome, email, número de telemóvel e endereço e cria o cliente com estas informações (o customer number será o maior customer_number mais um). A opção \"List customers\" abre uma página (list_customers.html) que lista todos os clientes, mostrando todas as suas informações e ainda duas opções: \"Delete\" e \"List orders\". A opção \"Delete\" remove aquele cliente, enquanto a opção \"List orders\" abre uma página (list_orders.html) que lista todas as encomendas não pagas deste cliente, mostrando seu order number e a data que foi realizada, juntamente com uma opção \"Pay\" para realizar o pagamento da encomenda."
   ]
  },
  {
   "cell_type": "markdown",
   "id": "5dff0f43-90cc-4ab5-b874-c3fb24776728",
   "metadata": {},
   "source": [
    "## 5. Consultas OLAP"
   ]
  },
  {
   "cell_type": "markdown",
   "id": "5c8c25ed-b858-4daf-a291-b59e489c0a44",
   "metadata": {},
   "source": [
    "Usando a vista desenvolvida para a Questão 3, escreva duas consultas SQL que permitam analisar:"
   ]
  },
  {
   "cell_type": "markdown",
   "id": "bd8d173c-e72f-4e89-8949-e2df3b7b07a3",
   "metadata": {},
   "source": [
    "1. As quantidade e valores totais de venda de cada produto em 2022, globalmente, por cidade, por mês, dia do mês e dia da semana"
   ]
  },
  {
   "cell_type": "code",
   "execution_count": null,
   "id": "bf12ce01-15c0-4e7c-b329-576dd344ebf6",
   "metadata": {
    "tags": []
   },
   "outputs": [],
   "source": [
    "%%sql\n",
    "\n",
    "SELECT DISTINCT sku, city, dates.month, dates.day_of_month, dates.day_of_week, SUM(qty) AS quantity, SUM(total_price) AS total_price\n",
    "FROM (\n",
    "    SELECT\n",
    "        EXTRACT(YEAR FROM d) AS year,\n",
    "        EXTRACT(MONTH FROM d) AS month,\n",
    "        EXTRACT(DAY FROM d) AS day_of_month,\n",
    "        EXTRACT(DOW FROM d) AS day_of_week\n",
    "    FROM\n",
    "        generate_series('2022-01-01'::TIMESTAMP, '2022-12-31'::TIMESTAMP, '1 day') AS d\n",
    "    ) AS dates\n",
    "LEFT JOIN product_sales ps ON dates.year = ps.year\n",
    "AND dates.month = ps.month\n",
    "AND dates.day_of_month = ps.day_of_month\n",
    "AND dates.day_of_week = ps.day_of_week\n",
    "GROUP BY GROUPING SETS (\n",
    "    (dates.month, dates.day_of_month, dates.day_of_week, sku, city),\n",
    "    (dates.month, dates.day_of_month, dates.day_of_week, sku),\n",
    "    (dates.month, dates.day_of_month, dates.day_of_week),\n",
    "    (dates.month, dates.day_of_month),\n",
    "    (dates.month),\n",
    "    ())\n",
    "ORDER BY dates.month, dates.day_of_month, dates.day_of_week, ps.sku, ps.city"
   ]
  },
  {
   "cell_type": "markdown",
   "id": "a6f88296-429c-4c1c-9a7a-5cbe9cb65920",
   "metadata": {},
   "source": [
    "2. O valor médio diário das vendas de todos os produtos em 2022, globalmente, por mês e dia da semana"
   ]
  },
  {
   "cell_type": "code",
   "execution_count": null,
   "id": "7aac0901-02ad-4a40-964e-dc03430f8e77",
   "metadata": {
    "tags": []
   },
   "outputs": [],
   "source": [
    "%%sql\n",
    "\n",
    "SELECT dates.year, dates.month, dates.day_of_week, AVG(COALESCE(ps.total_price, 0)) AS average_daily_sales\n",
    "FROM (\n",
    "    SELECT\n",
    "        EXTRACT(YEAR FROM d) AS year,\n",
    "        EXTRACT(MONTH FROM d) AS month,\n",
    "        EXTRACT(DOW FROM d) AS day_of_week\n",
    "    FROM\n",
    "        generate_series('2022-01-01'::TIMESTAMP, '2022-12-31'::TIMESTAMP, '1 day') AS d\n",
    "    ) AS dates\n",
    "LEFT JOIN product_sales ps ON dates.year = ps.year\n",
    "AND dates.month = ps.month\n",
    "AND dates.day_of_week = ps.day_of_week\n",
    "GROUP BY GROUPING SETS (\n",
    "  (dates.year, dates.month, dates.day_of_week),\n",
    "  (dates.year, dates.month),\n",
    "  ())\n",
    "ORDER BY dates.year, dates.month, dates.day_of_week;"
   ]
  },
  {
   "cell_type": "markdown",
   "id": "5a75300b-51d0-4512-8b50-ffac98d66070",
   "metadata": {
    "tags": []
   },
   "source": [
    "## 6. Índices"
   ]
  },
  {
   "cell_type": "markdown",
   "id": "35f160cc-30e9-4381-9b3e-0d78ef421af8",
   "metadata": {
    "tags": []
   },
   "source": [
    "Indique, com a devida justificação, que tipo de índice(s), sobre qual(is) atributo(s) e sobre qual(is) tabela(s) faria sentido criar, de forma a agilizar a execução de cada uma das seguintes consultas: "
   ]
  },
  {
   "cell_type": "markdown",
   "id": "6e6e7eb2-c8ba-4d93-a31b-a2384d538fc0",
   "metadata": {
    "jp-MarkdownHeadingCollapsed": true,
    "tags": []
   },
   "source": [
    "### 6.1\n",
    "SELECT order_no\n",
    "FROM orders \n",
    "JOIN contains USING (order_no) \n",
    "JOIN product USING (SKU) \n",
    "WHERE price > 50 AND \n",
    "EXTRACT(YEAR FROM date) = 2023"
   ]
  },
  {
   "cell_type": "markdown",
   "id": "b12768c7-efcc-4550-a7c1-7f8bbafd6409",
   "metadata": {},
   "source": [
    "### Tipo de Índice, Atributos & Justificação\n",
    "\n",
    "Para agilizar a execução desta consulta, devemos criar dois índices: um na coluna 'price' de 'product' e outro na coluna 'date' de 'orders'.\n",
    "No caso do price temos um filtro de range (price > 50), algo que beneficia fortemente de um índice binary tree.  No caso de date também devemos criar um índice binary tree, pois date tem uma granularidade de dias e não anos, o que significa que, na realidade, nós queremos todas as linhas da tabela onde a data está entre 2023/01/01 e 2023/12/31, algo que é também um filtro de range.\n",
    "\n",
    "Como order_no é primary key de orders (logo tem um índice por default), SKU é primary key de product (logo também tem um índice por default) e (order_no, SKU) é composite primary key de contains (logo há um composite index nestas colunas por default), as operações JOIN não iriam beneficiar de nenhum índice adicional."
   ]
  },
  {
   "cell_type": "markdown",
   "id": "89f6cb2b-8425-42f8-810c-9c9e5797b686",
   "metadata": {},
   "source": [
    "### 6.2\n",
    "SELECT order_no, SUM(qty*price)\n",
    "FROM contains \n",
    "JOIN product USING (SKU) \n",
    "WHERE name LIKE ‘A%’ \n",
    "GROUP BY order_no;"
   ]
  },
  {
   "cell_type": "markdown",
   "id": "1af12988-e1f5-4a72-835d-9aba30d0ce88",
   "metadata": {},
   "source": [
    "### Tipo de Índice, Atributos & Justificação\n",
    "\n",
    "Para agilizar esta consulta, devemos criar um índice b-tree na coluna 'name' de 'product', algo que irá melhorar o desempenho da cláusula WHERE, que usa o predicado \"name LIKE 'A%'\". Usar hash table só faria sentido se estivessemos à procura de uma palavra em especifico, logo usar b-tree, neste caso, é mais eficiente, uma vez que a binary tree fica ordenada alfabeticamente e só queremos saber as palavras que começam por A.\n",
    "\n",
    "Como sku é primary key de product e (order_no, sku) é composite primary key de contains, estes já têm índices por default logo as operações JOIN e GROUP BY não iriam beneficiar de nenhum índice adicional."
   ]
  }
 ],
 "metadata": {
  "kernelspec": {
   "display_name": "Python 3 (ipykernel)",
   "language": "python",
   "name": "python3"
  },
  "language_info": {
   "codemirror_mode": {
    "name": "ipython",
    "version": 3
   },
   "file_extension": ".py",
   "mimetype": "text/x-python",
   "name": "python",
   "nbconvert_exporter": "python",
   "pygments_lexer": "ipython3",
   "version": "3.11.3"
  }
 },
 "nbformat": 4,
 "nbformat_minor": 5
}
